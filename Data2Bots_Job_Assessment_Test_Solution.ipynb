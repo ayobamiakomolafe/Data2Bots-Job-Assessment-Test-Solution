{
  "nbformat": 4,
  "nbformat_minor": 0,
  "metadata": {
    "colab": {
      "name": "Data2Bots Job Assessment Test Solution.ipynb",
      "provenance": [],
      "collapsed_sections": []
    },
    "kernelspec": {
      "name": "python3",
      "display_name": "Python 3"
    },
    "language_info": {
      "name": "python"
    }
  },
  "cells": [
    {
      "cell_type": "code",
      "metadata": {
        "id": "ix0SpnDryjz3"
      },
      "source": [
        "#import the needed library\n",
        "import pandas as pd "
      ],
      "execution_count": 1,
      "outputs": []
    },
    {
      "cell_type": "code",
      "metadata": {
        "colab": {
          "base_uri": "https://localhost:8080/",
          "height": 203
        },
        "id": "S0Y4YMX3zEeE",
        "outputId": "524fb934-c92a-4fb7-e546-ed86191da8e0"
      },
      "source": [
        "# Load dataset into pandas dataframe and show first five rows\n",
        "df=pd.read_csv('/content/drive/MyDrive/python hands-on - dataset.csv')\n",
        "df.head()"
      ],
      "execution_count": 2,
      "outputs": [
        {
          "output_type": "execute_result",
          "data": {
            "text/html": [
              "<div>\n",
              "<style scoped>\n",
              "    .dataframe tbody tr th:only-of-type {\n",
              "        vertical-align: middle;\n",
              "    }\n",
              "\n",
              "    .dataframe tbody tr th {\n",
              "        vertical-align: top;\n",
              "    }\n",
              "\n",
              "    .dataframe thead th {\n",
              "        text-align: right;\n",
              "    }\n",
              "</style>\n",
              "<table border=\"1\" class=\"dataframe\">\n",
              "  <thead>\n",
              "    <tr style=\"text-align: right;\">\n",
              "      <th></th>\n",
              "      <th>date</th>\n",
              "      <th>sku</th>\n",
              "      <th>warehouse_location</th>\n",
              "      <th>quantity</th>\n",
              "    </tr>\n",
              "  </thead>\n",
              "  <tbody>\n",
              "    <tr>\n",
              "      <th>0</th>\n",
              "      <td>2021-01-02</td>\n",
              "      <td>100940478</td>\n",
              "      <td>lagos</td>\n",
              "      <td>23</td>\n",
              "    </tr>\n",
              "    <tr>\n",
              "      <th>1</th>\n",
              "      <td>2020-11-09</td>\n",
              "      <td>100940479</td>\n",
              "      <td>lagos</td>\n",
              "      <td>84</td>\n",
              "    </tr>\n",
              "    <tr>\n",
              "      <th>2</th>\n",
              "      <td>2021-01-15</td>\n",
              "      <td>100940480</td>\n",
              "      <td>oyo</td>\n",
              "      <td>11</td>\n",
              "    </tr>\n",
              "    <tr>\n",
              "      <th>3</th>\n",
              "      <td>2016-11-09</td>\n",
              "      <td>100940481</td>\n",
              "      <td>ogun</td>\n",
              "      <td>98</td>\n",
              "    </tr>\n",
              "    <tr>\n",
              "      <th>4</th>\n",
              "      <td>2017-04-04</td>\n",
              "      <td>100940482</td>\n",
              "      <td>ogun</td>\n",
              "      <td>23</td>\n",
              "    </tr>\n",
              "  </tbody>\n",
              "</table>\n",
              "</div>"
            ],
            "text/plain": [
              "         date        sku warehouse_location  quantity\n",
              "0  2021-01-02  100940478              lagos        23\n",
              "1  2020-11-09  100940479              lagos        84\n",
              "2  2021-01-15  100940480                oyo        11\n",
              "3  2016-11-09  100940481               ogun        98\n",
              "4  2017-04-04  100940482               ogun        23"
            ]
          },
          "metadata": {
            "tags": []
          },
          "execution_count": 2
        }
      ]
    },
    {
      "cell_type": "code",
      "metadata": {
        "colab": {
          "base_uri": "https://localhost:8080/"
        },
        "id": "c4wDcqIgzEbH",
        "outputId": "34b09334-ee37-456d-ed6d-87fe2f6139d9"
      },
      "source": [
        "print (df.shape)\n",
        "print (df.dtypes)"
      ],
      "execution_count": 3,
      "outputs": [
        {
          "output_type": "stream",
          "text": [
            "(10, 4)\n",
            "date                  object\n",
            "sku                    int64\n",
            "warehouse_location    object\n",
            "quantity               int64\n",
            "dtype: object\n"
          ],
          "name": "stdout"
        }
      ]
    },
    {
      "cell_type": "code",
      "metadata": {
        "id": "AGutVGrU4EF2"
      },
      "source": [
        "# Convert date column to datetime datetype\n",
        "df['date']=df['date'].astype('datetime64')"
      ],
      "execution_count": 4,
      "outputs": []
    },
    {
      "cell_type": "code",
      "metadata": {
        "colab": {
          "base_uri": "https://localhost:8080/"
        },
        "id": "TE4maZ-i4LwB",
        "outputId": "4fddfc2a-564d-47ea-bf13-72f456fcc1eb"
      },
      "source": [
        "print (df.shape)\n",
        "print (df.dtypes)"
      ],
      "execution_count": 5,
      "outputs": [
        {
          "output_type": "stream",
          "text": [
            "(10, 4)\n",
            "date                  datetime64[ns]\n",
            "sku                            int64\n",
            "warehouse_location            object\n",
            "quantity                       int64\n",
            "dtype: object\n"
          ],
          "name": "stdout"
        }
      ]
    },
    {
      "cell_type": "code",
      "metadata": {
        "colab": {
          "base_uri": "https://localhost:8080/",
          "height": 357
        },
        "id": "jJtrfYTj0wQG",
        "outputId": "b2c1d81d-c5d1-43d8-e596-d1278943e4ac"
      },
      "source": [
        "df"
      ],
      "execution_count": 6,
      "outputs": [
        {
          "output_type": "execute_result",
          "data": {
            "text/html": [
              "<div>\n",
              "<style scoped>\n",
              "    .dataframe tbody tr th:only-of-type {\n",
              "        vertical-align: middle;\n",
              "    }\n",
              "\n",
              "    .dataframe tbody tr th {\n",
              "        vertical-align: top;\n",
              "    }\n",
              "\n",
              "    .dataframe thead th {\n",
              "        text-align: right;\n",
              "    }\n",
              "</style>\n",
              "<table border=\"1\" class=\"dataframe\">\n",
              "  <thead>\n",
              "    <tr style=\"text-align: right;\">\n",
              "      <th></th>\n",
              "      <th>date</th>\n",
              "      <th>sku</th>\n",
              "      <th>warehouse_location</th>\n",
              "      <th>quantity</th>\n",
              "    </tr>\n",
              "  </thead>\n",
              "  <tbody>\n",
              "    <tr>\n",
              "      <th>0</th>\n",
              "      <td>2021-01-02</td>\n",
              "      <td>100940478</td>\n",
              "      <td>lagos</td>\n",
              "      <td>23</td>\n",
              "    </tr>\n",
              "    <tr>\n",
              "      <th>1</th>\n",
              "      <td>2020-11-09</td>\n",
              "      <td>100940479</td>\n",
              "      <td>lagos</td>\n",
              "      <td>84</td>\n",
              "    </tr>\n",
              "    <tr>\n",
              "      <th>2</th>\n",
              "      <td>2021-01-15</td>\n",
              "      <td>100940480</td>\n",
              "      <td>oyo</td>\n",
              "      <td>11</td>\n",
              "    </tr>\n",
              "    <tr>\n",
              "      <th>3</th>\n",
              "      <td>2016-11-09</td>\n",
              "      <td>100940481</td>\n",
              "      <td>ogun</td>\n",
              "      <td>98</td>\n",
              "    </tr>\n",
              "    <tr>\n",
              "      <th>4</th>\n",
              "      <td>2017-04-04</td>\n",
              "      <td>100940482</td>\n",
              "      <td>ogun</td>\n",
              "      <td>23</td>\n",
              "    </tr>\n",
              "    <tr>\n",
              "      <th>5</th>\n",
              "      <td>2018-01-13</td>\n",
              "      <td>100940483</td>\n",
              "      <td>abia</td>\n",
              "      <td>3</td>\n",
              "    </tr>\n",
              "    <tr>\n",
              "      <th>6</th>\n",
              "      <td>2021-03-15</td>\n",
              "      <td>100940484</td>\n",
              "      <td>kaduna</td>\n",
              "      <td>7</td>\n",
              "    </tr>\n",
              "    <tr>\n",
              "      <th>7</th>\n",
              "      <td>2021-01-11</td>\n",
              "      <td>100940485</td>\n",
              "      <td>abuja</td>\n",
              "      <td>4</td>\n",
              "    </tr>\n",
              "    <tr>\n",
              "      <th>8</th>\n",
              "      <td>2021-02-16</td>\n",
              "      <td>100940486</td>\n",
              "      <td>kano</td>\n",
              "      <td>9</td>\n",
              "    </tr>\n",
              "    <tr>\n",
              "      <th>9</th>\n",
              "      <td>2019-06-06</td>\n",
              "      <td>100940487</td>\n",
              "      <td>anambra</td>\n",
              "      <td>199</td>\n",
              "    </tr>\n",
              "  </tbody>\n",
              "</table>\n",
              "</div>"
            ],
            "text/plain": [
              "        date        sku warehouse_location  quantity\n",
              "0 2021-01-02  100940478              lagos        23\n",
              "1 2020-11-09  100940479              lagos        84\n",
              "2 2021-01-15  100940480                oyo        11\n",
              "3 2016-11-09  100940481               ogun        98\n",
              "4 2017-04-04  100940482               ogun        23\n",
              "5 2018-01-13  100940483               abia         3\n",
              "6 2021-03-15  100940484             kaduna         7\n",
              "7 2021-01-11  100940485              abuja         4\n",
              "8 2021-02-16  100940486               kano         9\n",
              "9 2019-06-06  100940487            anambra       199"
            ]
          },
          "metadata": {
            "tags": []
          },
          "execution_count": 6
        }
      ]
    },
    {
      "cell_type": "code",
      "metadata": {
        "id": "v-cmk6F40WcE"
      },
      "source": [
        "# add the obsolete column and flag as True or False as appropraite\n",
        "\n",
        "df.loc[df['date'] <'2021-01-01', 'obsolete']='TRUE'\n",
        "df.loc[df['date'] >= '2021-01-01', 'obsolete']='FALSE' "
      ],
      "execution_count": 8,
      "outputs": []
    },
    {
      "cell_type": "code",
      "metadata": {
        "colab": {
          "base_uri": "https://localhost:8080/",
          "height": 357
        },
        "id": "Amv6g67F-IEp",
        "outputId": "d0806db3-249f-401e-c1b2-383f6cf62130"
      },
      "source": [
        "df"
      ],
      "execution_count": 10,
      "outputs": [
        {
          "output_type": "execute_result",
          "data": {
            "text/html": [
              "<div>\n",
              "<style scoped>\n",
              "    .dataframe tbody tr th:only-of-type {\n",
              "        vertical-align: middle;\n",
              "    }\n",
              "\n",
              "    .dataframe tbody tr th {\n",
              "        vertical-align: top;\n",
              "    }\n",
              "\n",
              "    .dataframe thead th {\n",
              "        text-align: right;\n",
              "    }\n",
              "</style>\n",
              "<table border=\"1\" class=\"dataframe\">\n",
              "  <thead>\n",
              "    <tr style=\"text-align: right;\">\n",
              "      <th></th>\n",
              "      <th>date</th>\n",
              "      <th>sku</th>\n",
              "      <th>warehouse_location</th>\n",
              "      <th>quantity</th>\n",
              "      <th>obsolete</th>\n",
              "    </tr>\n",
              "  </thead>\n",
              "  <tbody>\n",
              "    <tr>\n",
              "      <th>0</th>\n",
              "      <td>2021-01-02</td>\n",
              "      <td>100940478</td>\n",
              "      <td>lagos</td>\n",
              "      <td>23</td>\n",
              "      <td>FALSE</td>\n",
              "    </tr>\n",
              "    <tr>\n",
              "      <th>1</th>\n",
              "      <td>2020-11-09</td>\n",
              "      <td>100940479</td>\n",
              "      <td>lagos</td>\n",
              "      <td>84</td>\n",
              "      <td>TRUE</td>\n",
              "    </tr>\n",
              "    <tr>\n",
              "      <th>2</th>\n",
              "      <td>2021-01-15</td>\n",
              "      <td>100940480</td>\n",
              "      <td>oyo</td>\n",
              "      <td>11</td>\n",
              "      <td>FALSE</td>\n",
              "    </tr>\n",
              "    <tr>\n",
              "      <th>3</th>\n",
              "      <td>2016-11-09</td>\n",
              "      <td>100940481</td>\n",
              "      <td>ogun</td>\n",
              "      <td>98</td>\n",
              "      <td>TRUE</td>\n",
              "    </tr>\n",
              "    <tr>\n",
              "      <th>4</th>\n",
              "      <td>2017-04-04</td>\n",
              "      <td>100940482</td>\n",
              "      <td>ogun</td>\n",
              "      <td>23</td>\n",
              "      <td>TRUE</td>\n",
              "    </tr>\n",
              "    <tr>\n",
              "      <th>5</th>\n",
              "      <td>2018-01-13</td>\n",
              "      <td>100940483</td>\n",
              "      <td>abia</td>\n",
              "      <td>3</td>\n",
              "      <td>TRUE</td>\n",
              "    </tr>\n",
              "    <tr>\n",
              "      <th>6</th>\n",
              "      <td>2021-03-15</td>\n",
              "      <td>100940484</td>\n",
              "      <td>kaduna</td>\n",
              "      <td>7</td>\n",
              "      <td>FALSE</td>\n",
              "    </tr>\n",
              "    <tr>\n",
              "      <th>7</th>\n",
              "      <td>2021-01-11</td>\n",
              "      <td>100940485</td>\n",
              "      <td>abuja</td>\n",
              "      <td>4</td>\n",
              "      <td>FALSE</td>\n",
              "    </tr>\n",
              "    <tr>\n",
              "      <th>8</th>\n",
              "      <td>2021-02-16</td>\n",
              "      <td>100940486</td>\n",
              "      <td>kano</td>\n",
              "      <td>9</td>\n",
              "      <td>FALSE</td>\n",
              "    </tr>\n",
              "    <tr>\n",
              "      <th>9</th>\n",
              "      <td>2019-06-06</td>\n",
              "      <td>100940487</td>\n",
              "      <td>anambra</td>\n",
              "      <td>199</td>\n",
              "      <td>TRUE</td>\n",
              "    </tr>\n",
              "  </tbody>\n",
              "</table>\n",
              "</div>"
            ],
            "text/plain": [
              "        date        sku warehouse_location  quantity obsolete\n",
              "0 2021-01-02  100940478              lagos        23    FALSE\n",
              "1 2020-11-09  100940479              lagos        84     TRUE\n",
              "2 2021-01-15  100940480                oyo        11    FALSE\n",
              "3 2016-11-09  100940481               ogun        98     TRUE\n",
              "4 2017-04-04  100940482               ogun        23     TRUE\n",
              "5 2018-01-13  100940483               abia         3     TRUE\n",
              "6 2021-03-15  100940484             kaduna         7    FALSE\n",
              "7 2021-01-11  100940485              abuja         4    FALSE\n",
              "8 2021-02-16  100940486               kano         9    FALSE\n",
              "9 2019-06-06  100940487            anambra       199     TRUE"
            ]
          },
          "metadata": {
            "tags": []
          },
          "execution_count": 10
        }
      ]
    },
    {
      "cell_type": "code",
      "metadata": {
        "id": "vU07XqIp04iL",
        "colab": {
          "base_uri": "https://localhost:8080/",
          "height": 17
        },
        "outputId": "4300aea8-daa3-41ab-d501-99168c57ea6c"
      },
      "source": [
        "# Convert df to JSON\n",
        "# Download JSON FILE\n",
        "df.to_json('json_file', orient='records')\n",
        "from google.colab import files\n",
        "files.download('json_file')"
      ],
      "execution_count": 11,
      "outputs": [
        {
          "output_type": "display_data",
          "data": {
            "application/javascript": [
              "\n",
              "    async function download(id, filename, size) {\n",
              "      if (!google.colab.kernel.accessAllowed) {\n",
              "        return;\n",
              "      }\n",
              "      const div = document.createElement('div');\n",
              "      const label = document.createElement('label');\n",
              "      label.textContent = `Downloading \"${filename}\": `;\n",
              "      div.appendChild(label);\n",
              "      const progress = document.createElement('progress');\n",
              "      progress.max = size;\n",
              "      div.appendChild(progress);\n",
              "      document.body.appendChild(div);\n",
              "\n",
              "      const buffers = [];\n",
              "      let downloaded = 0;\n",
              "\n",
              "      const channel = await google.colab.kernel.comms.open(id);\n",
              "      // Send a message to notify the kernel that we're ready.\n",
              "      channel.send({})\n",
              "\n",
              "      for await (const message of channel.messages) {\n",
              "        // Send a message to notify the kernel that we're ready.\n",
              "        channel.send({})\n",
              "        if (message.buffers) {\n",
              "          for (const buffer of message.buffers) {\n",
              "            buffers.push(buffer);\n",
              "            downloaded += buffer.byteLength;\n",
              "            progress.value = downloaded;\n",
              "          }\n",
              "        }\n",
              "      }\n",
              "      const blob = new Blob(buffers, {type: 'application/binary'});\n",
              "      const a = document.createElement('a');\n",
              "      a.href = window.URL.createObjectURL(blob);\n",
              "      a.download = filename;\n",
              "      div.appendChild(a);\n",
              "      a.click();\n",
              "      div.remove();\n",
              "    }\n",
              "  "
            ],
            "text/plain": [
              "<IPython.core.display.Javascript object>"
            ]
          },
          "metadata": {
            "tags": []
          }
        },
        {
          "output_type": "display_data",
          "data": {
            "application/javascript": [
              "download(\"download_5dd6e440-636a-48de-b47c-2661629f8d29\", \"json_file\", 1000)"
            ],
            "text/plain": [
              "<IPython.core.display.Javascript object>"
            ]
          },
          "metadata": {
            "tags": []
          }
        }
      ]
    },
    {
      "cell_type": "code",
      "metadata": {
        "colab": {
          "base_uri": "https://localhost:8080/",
          "height": 17
        },
        "id": "UgEJs682BdGN",
        "outputId": "e3b8d592-5471-4029-c1ab-64530343ad9a"
      },
      "source": [
        "# Convert df to CSV\n",
        "# Download CSV FILE\n",
        "df.to_csv('csv_file')\n",
        "from google.colab import files\n",
        "files.download('csv_file')"
      ],
      "execution_count": 12,
      "outputs": [
        {
          "output_type": "display_data",
          "data": {
            "application/javascript": [
              "\n",
              "    async function download(id, filename, size) {\n",
              "      if (!google.colab.kernel.accessAllowed) {\n",
              "        return;\n",
              "      }\n",
              "      const div = document.createElement('div');\n",
              "      const label = document.createElement('label');\n",
              "      label.textContent = `Downloading \"${filename}\": `;\n",
              "      div.appendChild(label);\n",
              "      const progress = document.createElement('progress');\n",
              "      progress.max = size;\n",
              "      div.appendChild(progress);\n",
              "      document.body.appendChild(div);\n",
              "\n",
              "      const buffers = [];\n",
              "      let downloaded = 0;\n",
              "\n",
              "      const channel = await google.colab.kernel.comms.open(id);\n",
              "      // Send a message to notify the kernel that we're ready.\n",
              "      channel.send({})\n",
              "\n",
              "      for await (const message of channel.messages) {\n",
              "        // Send a message to notify the kernel that we're ready.\n",
              "        channel.send({})\n",
              "        if (message.buffers) {\n",
              "          for (const buffer of message.buffers) {\n",
              "            buffers.push(buffer);\n",
              "            downloaded += buffer.byteLength;\n",
              "            progress.value = downloaded;\n",
              "          }\n",
              "        }\n",
              "      }\n",
              "      const blob = new Blob(buffers, {type: 'application/binary'});\n",
              "      const a = document.createElement('a');\n",
              "      a.href = window.URL.createObjectURL(blob);\n",
              "      a.download = filename;\n",
              "      div.appendChild(a);\n",
              "      a.click();\n",
              "      div.remove();\n",
              "    }\n",
              "  "
            ],
            "text/plain": [
              "<IPython.core.display.Javascript object>"
            ]
          },
          "metadata": {
            "tags": []
          }
        },
        {
          "output_type": "display_data",
          "data": {
            "application/javascript": [
              "download(\"download_075d3961-777d-4f82-9921-5a130ac65556\", \"csv_file\", 416)"
            ],
            "text/plain": [
              "<IPython.core.display.Javascript object>"
            ]
          },
          "metadata": {
            "tags": []
          }
        }
      ]
    }
  ]
}