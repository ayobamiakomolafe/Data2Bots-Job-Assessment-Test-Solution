{
  "nbformat": 4,
  "nbformat_minor": 0,
  "metadata": {
    "colab": {
      "name": "Data2Bots Job Assessment Test Solution.ipynb",
      "provenance": [],
      "collapsed_sections": []
    },
    "kernelspec": {
      "name": "python3",
      "display_name": "Python 3"
    },
    "language_info": {
      "name": "python"
    }
  },
  "cells": [
    {
      "cell_type": "code",
      "metadata": {
        "id": "ix0SpnDryjz3"
      },
      "source": [
        "#import the needed library\n",
        "import pandas as pd \n",
        "from google.colab import files"
      ],
      "execution_count": 2,
      "outputs": []
    },
    {
      "cell_type": "markdown",
      "metadata": {
        "id": "1Ff5EXALFhu6"
      },
      "source": [
        "For reusability, codes are best written in functions"
      ]
    },
    {
      "cell_type": "code",
      "metadata": {
        "id": "m13hlOwqCkPe"
      },
      "source": [
        "'data: data file path'\n",
        "'date: The date to be considered' \n",
        "def Obsolete(data, date):\n",
        "  df=pd.read_csv(data)\n",
        "  print (df.shape)\n",
        "  print (df.dtypes)\n",
        "  # Convert date column to datetime datetype\n",
        "  df['date']=df['date'].astype('datetime64')\n",
        "  print(df)\n",
        "  # add the obsolete column and flag as True or False as appropraite\n",
        "  df.loc[df['date'] < date, 'obsolete']='TRUE'\n",
        "  df.loc[df['date'] >= date, 'obsolete']='FALSE' \n",
        "  print(df)\n",
        "  # Convert df to JSON and Download JSON FILE\n",
        "  df.to_json('json_file', orient='records')\n",
        "  files.download('json_file')\n",
        "  # Convert df to CSV and Download CSV FILE\n",
        "  df.to_csv('csv_file')\n",
        "  files.download('csv_file')"
      ],
      "execution_count": 3,
      "outputs": []
    },
    {
      "cell_type": "markdown",
      "metadata": {
        "id": "vKqca54AGH_M"
      },
      "source": [
        "Code Testing"
      ]
    },
    {
      "cell_type": "code",
      "metadata": {
        "colab": {
          "base_uri": "https://localhost:8080/",
          "height": 487
        },
        "id": "fnWHWY-iET8e",
        "outputId": "c256802c-f55f-43ab-939b-3bb399aa9a1c"
      },
      "source": [
        "Obsolete('/content/drive/MyDrive/python hands-on - dataset.csv', '2021-01-01')"
      ],
      "execution_count": 4,
      "outputs": [
        {
          "output_type": "stream",
          "text": [
            "(10, 4)\n",
            "date                  object\n",
            "sku                    int64\n",
            "warehouse_location    object\n",
            "quantity               int64\n",
            "dtype: object\n",
            "        date        sku warehouse_location  quantity\n",
            "0 2021-01-02  100940478              lagos        23\n",
            "1 2020-11-09  100940479              lagos        84\n",
            "2 2021-01-15  100940480                oyo        11\n",
            "3 2016-11-09  100940481               ogun        98\n",
            "4 2017-04-04  100940482               ogun        23\n",
            "5 2018-01-13  100940483               abia         3\n",
            "6 2021-03-15  100940484             kaduna         7\n",
            "7 2021-01-11  100940485              abuja         4\n",
            "8 2021-02-16  100940486               kano         9\n",
            "9 2019-06-06  100940487            anambra       199\n",
            "        date        sku warehouse_location  quantity obsolete\n",
            "0 2021-01-02  100940478              lagos        23    FALSE\n",
            "1 2020-11-09  100940479              lagos        84     TRUE\n",
            "2 2021-01-15  100940480                oyo        11    FALSE\n",
            "3 2016-11-09  100940481               ogun        98     TRUE\n",
            "4 2017-04-04  100940482               ogun        23     TRUE\n",
            "5 2018-01-13  100940483               abia         3     TRUE\n",
            "6 2021-03-15  100940484             kaduna         7    FALSE\n",
            "7 2021-01-11  100940485              abuja         4    FALSE\n",
            "8 2021-02-16  100940486               kano         9    FALSE\n",
            "9 2019-06-06  100940487            anambra       199     TRUE\n"
          ],
          "name": "stdout"
        },
        {
          "output_type": "display_data",
          "data": {
            "application/javascript": [
              "\n",
              "    async function download(id, filename, size) {\n",
              "      if (!google.colab.kernel.accessAllowed) {\n",
              "        return;\n",
              "      }\n",
              "      const div = document.createElement('div');\n",
              "      const label = document.createElement('label');\n",
              "      label.textContent = `Downloading \"${filename}\": `;\n",
              "      div.appendChild(label);\n",
              "      const progress = document.createElement('progress');\n",
              "      progress.max = size;\n",
              "      div.appendChild(progress);\n",
              "      document.body.appendChild(div);\n",
              "\n",
              "      const buffers = [];\n",
              "      let downloaded = 0;\n",
              "\n",
              "      const channel = await google.colab.kernel.comms.open(id);\n",
              "      // Send a message to notify the kernel that we're ready.\n",
              "      channel.send({})\n",
              "\n",
              "      for await (const message of channel.messages) {\n",
              "        // Send a message to notify the kernel that we're ready.\n",
              "        channel.send({})\n",
              "        if (message.buffers) {\n",
              "          for (const buffer of message.buffers) {\n",
              "            buffers.push(buffer);\n",
              "            downloaded += buffer.byteLength;\n",
              "            progress.value = downloaded;\n",
              "          }\n",
              "        }\n",
              "      }\n",
              "      const blob = new Blob(buffers, {type: 'application/binary'});\n",
              "      const a = document.createElement('a');\n",
              "      a.href = window.URL.createObjectURL(blob);\n",
              "      a.download = filename;\n",
              "      div.appendChild(a);\n",
              "      a.click();\n",
              "      div.remove();\n",
              "    }\n",
              "  "
            ],
            "text/plain": [
              "<IPython.core.display.Javascript object>"
            ]
          },
          "metadata": {
            "tags": []
          }
        },
        {
          "output_type": "display_data",
          "data": {
            "application/javascript": [
              "download(\"download_42c71c0b-3308-46a3-b539-a4fd5612d9ae\", \"json_file\", 1000)"
            ],
            "text/plain": [
              "<IPython.core.display.Javascript object>"
            ]
          },
          "metadata": {
            "tags": []
          }
        },
        {
          "output_type": "display_data",
          "data": {
            "application/javascript": [
              "\n",
              "    async function download(id, filename, size) {\n",
              "      if (!google.colab.kernel.accessAllowed) {\n",
              "        return;\n",
              "      }\n",
              "      const div = document.createElement('div');\n",
              "      const label = document.createElement('label');\n",
              "      label.textContent = `Downloading \"${filename}\": `;\n",
              "      div.appendChild(label);\n",
              "      const progress = document.createElement('progress');\n",
              "      progress.max = size;\n",
              "      div.appendChild(progress);\n",
              "      document.body.appendChild(div);\n",
              "\n",
              "      const buffers = [];\n",
              "      let downloaded = 0;\n",
              "\n",
              "      const channel = await google.colab.kernel.comms.open(id);\n",
              "      // Send a message to notify the kernel that we're ready.\n",
              "      channel.send({})\n",
              "\n",
              "      for await (const message of channel.messages) {\n",
              "        // Send a message to notify the kernel that we're ready.\n",
              "        channel.send({})\n",
              "        if (message.buffers) {\n",
              "          for (const buffer of message.buffers) {\n",
              "            buffers.push(buffer);\n",
              "            downloaded += buffer.byteLength;\n",
              "            progress.value = downloaded;\n",
              "          }\n",
              "        }\n",
              "      }\n",
              "      const blob = new Blob(buffers, {type: 'application/binary'});\n",
              "      const a = document.createElement('a');\n",
              "      a.href = window.URL.createObjectURL(blob);\n",
              "      a.download = filename;\n",
              "      div.appendChild(a);\n",
              "      a.click();\n",
              "      div.remove();\n",
              "    }\n",
              "  "
            ],
            "text/plain": [
              "<IPython.core.display.Javascript object>"
            ]
          },
          "metadata": {
            "tags": []
          }
        },
        {
          "output_type": "display_data",
          "data": {
            "application/javascript": [
              "download(\"download_0d50e3b5-cbb5-4471-842c-08ae9dad739d\", \"csv_file\", 416)"
            ],
            "text/plain": [
              "<IPython.core.display.Javascript object>"
            ]
          },
          "metadata": {
            "tags": []
          }
        }
      ]
    }
  ]
}